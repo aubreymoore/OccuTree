{
 "cells": [
  {
   "cell_type": "code",
   "execution_count": 122,
   "id": "736aa3b0-c92e-4872-936b-68e4b6d8febc",
   "metadata": {},
   "outputs": [],
   "source": [
    "import pandas as pd\n",
    "from collections import defaultdict\n",
    "import jinja2\n",
    "from dwca.read import DwCAReader\n",
    "import xml.etree.ElementTree as ET\n",
    "from zipfile import ZipFile\n",
    "import htmlmin\n",
    "import re"
   ]
  },
  {
   "cell_type": "code",
   "execution_count": 123,
   "id": "ab26518e-c64c-4230-ad33-94a590b09198",
   "metadata": {},
   "outputs": [],
   "source": [
    "DWCA = '/home/aubrey/Downloads/0263016-220831081235567.zip' # Insecta\n",
    "# DWCA = '/home/aubrey/Downloads/0001276-230224095556074.zip' # All taxa\n",
    "VERSION = '2023-05-06'"
   ]
  },
  {
   "cell_type": "code",
   "execution_count": 124,
   "id": "9bf26f3e-0757-49a4-bc6f-cfbaa21f3d35",
   "metadata": {
    "tags": []
   },
   "outputs": [],
   "source": [
    "def build_dataframe(dwca):\n",
    "    \"\"\" \n",
    "    Builds a dataframe from the core data file of a Darwin core archive.\n",
    "    \"\"\"\n",
    "    with DwCAReader(DWCA) as dwca:\n",
    "        print(\"Core data file is: {}\".format(dwca.descriptor.core.file_location)) # => 'occurrence.txt'\n",
    "        df = dwca.pd_read('occurrence.txt', parse_dates=True, low_memory=False)\n",
    "\n",
    "    df.dropna(axis=1, how='all', inplace=True)\n",
    "    # df.rename(columns={'tclass': 'class'})\n",
    "    df.sort_values(by=['kingdom', 'phylum', 'class', 'order','family','scientificName'], ignore_index=True, inplace=True)\n",
    "    df.reset_index(drop=True, inplace=True)\n",
    "    return df"
   ]
  },
  {
   "cell_type": "code",
   "execution_count": 125,
   "id": "34d35f8e-04c8-4a39-a1b5-e716ebc91d50",
   "metadata": {},
   "outputs": [],
   "source": [
    "def link2gbif(sciname):\n",
    "    try:\n",
    "        taxid = df.loc[df['scientificName'] == sciname, 'taxonKey'].iloc[0]\n",
    "        return f'<a href=\"https://www.gbif.org/species/{taxid}\" target=\"_blank\"> GBIF</a>'\n",
    "    except:\n",
    "        return ''"
   ]
  },
  {
   "cell_type": "code",
   "execution_count": 126,
   "id": "44ccc75c-9537-46bd-b33e-796b14cf0d58",
   "metadata": {
    "tags": []
   },
   "outputs": [],
   "source": [
    "def build_taxonomy_dict(df):\n",
    "    \"\"\"\n",
    "    Returns a defaultdict containing selected columns in dataframe.\n",
    "    \"\"\"\n",
    "\n",
    "    def tree(): \n",
    "        return defaultdict(tree)\n",
    "\n",
    "    taxonomy = tree()\n",
    "    for i, r in df.iterrows():\n",
    "        kingdom = r['kingdom']\n",
    "        phylum = r['phylum']\n",
    "        tclass = r['class']\n",
    "        order = r['order']\n",
    "        family= r['family']\n",
    "        sciname = r['scientificName']\n",
    "        taxonomy[kingdom][phylum][tclass][order][family][sciname]\n",
    "    return taxonomy\n",
    "# build_taxonomy_dict(df)"
   ]
  },
  {
   "cell_type": "code",
   "execution_count": 127,
   "id": "d7980eac-7629-4383-b5db-dcc6b315da8a",
   "metadata": {},
   "outputs": [],
   "source": [
    "def build_treeview(taxonomy_dict, indent):\n",
    "    \"\"\"\n",
    "    Returns html code for an interactive hierarchical tree view.\n",
    "    Data come from a defaultdict.\n",
    "    \"\"\"\n",
    "    html_string = ''\n",
    "    html_string = html_string + '   '*indent + '<ul class =\"nested\"> \\n'\n",
    "    for k, v in taxonomy_dict.items():\n",
    "        if isinstance(v, dict):\n",
    "            if \"name\" in v.keys():\n",
    "                html_string = html_string + '   '*indent + '<li><span class=\"caret\">' + str(v[\"name\"]) + '</span> \\n '\n",
    "            else:\n",
    "                # html_string = html_string + '   '*indent + '<li><span class=\"caret\">' + str(k) + '</span> \\n '\n",
    "                # html_string = html_string + '   '*indent + '<li><span class=\"caret\">' + str(k) + '</span>  <a href=\"https://www.gbif.org/species/4995642\" target=\"_blank\">GBIF</a> \\n '\n",
    "                html_string = html_string + '   '*indent + '<li><span class=\"caret\">' + str(k) + '</span>' + link2gbif(str(k)) + ' \\n '\n",
    "            html_string = html_string + build_treeview(v, indent+1) + '  '*indent + '</li> \\n '\n",
    "    html_string = html_string + '  '*indent + '</ul> \\n '\n",
    "    \n",
    "    return html_string"
   ]
  },
  {
   "cell_type": "code",
   "execution_count": 128,
   "id": "b0c1b238-6d2a-4f63-a0f9-19811396710c",
   "metadata": {},
   "outputs": [],
   "source": [
    "def get_metadata():\n",
    "    metadata = {}\n",
    "    with ZipFile(DWCA) as myzip:\n",
    "        with myzip.open('metadata.xml') as myfile:\n",
    "            xml = myfile.read()\n",
    "\n",
    "    tree = ET.ElementTree(ET.fromstring(xml))\n",
    "    root = tree.getroot()\n",
    "\n",
    "    metadata['abstract'] = root.find('./dataset/abstract/para').text\n",
    "    metadata['title'] = root.find('./dataset/title').text\n",
    "    metadata['pubdate'] = root.find('./dataset/pubDate').text.strip()\n",
    "    metadata['altid'] = root.find('./dataset/alternateIdentifier').text.strip()\n",
    "    metadata['url'] = f'https://www.gbif.org/occurrence/download/{metadata[\"altid\"]}'\n",
    "    return metadata\n",
    "\n",
    "# print(get_metadata())"
   ]
  },
  {
   "cell_type": "code",
   "execution_count": 129,
   "id": "48a01302-a7b5-43c5-9f69-21068dfac9a2",
   "metadata": {},
   "outputs": [],
   "source": [
    "def get_gbif_query( metadata_abstract ):\n",
    "    s = metadata['abstract']\n",
    "    start = s.index( '{' )\n",
    "    end = s.index( '}' )\n",
    "    s = s[start:end+1]\n",
    "    s = s.replace( '\\n', '' )\n",
    "    s = s.replace( '  ', '' ) \n",
    "    return s\n",
    "\n",
    "# get_gbif_query( metadata['abstract'] )"
   ]
  },
  {
   "cell_type": "code",
   "execution_count": 130,
   "id": "06776670-5bab-4440-824a-9cac21696549",
   "metadata": {},
   "outputs": [
    {
     "name": "stdout",
     "output_type": "stream",
     "text": [
      "{\"Country\" : [\"is Guam\"]}\n"
     ]
    },
    {
     "data": {
      "text/plain": [
       "'gbif-occurences-Guam.html'"
      ]
     },
     "execution_count": 130,
     "metadata": {},
     "output_type": "execute_result"
    }
   ],
   "source": [
    "def html_filename():\n",
    "    \"\"\"\n",
    "    Returns a filename for the output file by parsing the GBIF query\n",
    "    \"\"\"\n",
    "    regex = r\"is (.*?)\\\"\"\n",
    "    test_str = get_gbif_query( metadata['abstract'] )\n",
    "    print(test_str)\n",
    "    matches = re.finditer(regex, test_str)\n",
    "    mylist = []\n",
    "    for match in matches:\n",
    "        mylist.append(match.groups(0)[0])\n",
    "    s = '-'.join(mylist)\n",
    "    s = s.replace( ' ', '' )\n",
    "    return f'gbif-occurences-{s}.html'\n",
    "\n",
    "html_filename()"
   ]
  },
  {
   "cell_type": "code",
   "execution_count": 131,
   "id": "98e4103a-b2c4-4b3b-abf6-fae52ce7ab97",
   "metadata": {},
   "outputs": [],
   "source": [
    "def calculate_taxoncounts():\n",
    "    taxoncounts = {}\n",
    "    taxoncounts['occurrences'] = f\"{df.shape[0]:,d}\"\n",
    "    taxoncounts['kingdoms'] = f\"{df['kingdom'].nunique():,d}\"\n",
    "    taxoncounts['phyla'] = f\"{df['phylum'].nunique():,d}\"\n",
    "    taxoncounts['classes'] = f\"{df['class'].nunique():,d}\"\n",
    "    taxoncounts['orders'] = f\"{df['order'].nunique():,d}\"\n",
    "    taxoncounts['families'] = f\"{df['family'].nunique():,d}\"\n",
    "    taxoncounts['genera'] = f\"{df['genus'].nunique():,d}\"\n",
    "    taxoncounts['species'] = f\"{df['species'].nunique():,d}\"\n",
    "    return taxoncounts\n",
    "\n",
    "# calculate_taxoncounts()"
   ]
  },
  {
   "cell_type": "code",
   "execution_count": 132,
   "id": "d569eae6-6a47-4045-9389-cdbe8e29974a",
   "metadata": {},
   "outputs": [],
   "source": [
    "# HTML TEMPLATE\n",
    "\n",
    "template_string = \"\"\"\n",
    "<!DOCTYPE html>\n",
    "<html>\n",
    "<head>\n",
    "<meta http-equiv=\"Content-Type\" content=\"text/html; charset=utf-8\">\n",
    "<meta name=\"viewport\" content=\"width=device-width, initial-scale=1\">\n",
    "<title>GBIF Occurrences</title>\n",
    "\n",
    "<!--\n",
    "<link rel=\"stylesheet\" href=\"https://cdn.jsdelivr.net/npm/bulma@0.9.4/css/bulma.min.css\">\n",
    "-->\n",
    "\n",
    "<style>\n",
    "\n",
    "body {\n",
    "    margin: 20px;\n",
    "}\n",
    "\n",
    "#mybox {\n",
    "  background-color: #cfc ;\n",
    "  padding: 10px ;\n",
    "  padding-right: 10px\n",
    "  border: 1px solid green ;\n",
    "}\n",
    "\n",
    "ul, #myUL {\n",
    "  list-style-type: none;\n",
    "}\n",
    "\n",
    "#myUL {\n",
    "  margin: 0;\n",
    "  padding: 0;\n",
    "}\n",
    "\n",
    ".caret {\n",
    "  cursor: pointer;\n",
    "  -webkit-user-select: none; /* Safari 3.1+ */\n",
    "  -moz-user-select: none; /* Firefox 2+ */\n",
    "  -ms-user-select: none; /* IE 10+ */\n",
    "  user-select: none;\n",
    "}\n",
    "\n",
    ".caret::before {\n",
    "  content: \"\\u25B6\";\n",
    "  color: black;\n",
    "  display: inline-block;\n",
    "  margin-right: 6px;\n",
    "}\n",
    "\n",
    ".caret-down::before {\n",
    "  -ms-transform: rotate(90deg); /* IE 9 */\n",
    "  -webkit-transform: rotate(90deg); /* Safari */'\n",
    "  transform: rotate(90deg);\n",
    "}\n",
    "\n",
    ".nested {\n",
    "  display: none;\n",
    "}\n",
    "\n",
    ".active {\n",
    "  display: block;\n",
    "}\n",
    "</style>\n",
    "</head>\n",
    "<body>\n",
    "\n",
    "<section class=\"section\">\n",
    "<div class=\"container\">\n",
    "\n",
    "<h1>GBIF Occurrence Records</h1>\n",
    "\n",
    "GBIF query: <b>{{ gbif_query }}</b>\n",
    "\n",
    "<div id=\"mybox\">\n",
    "<pre>HTML generated by XXX v.{{ version }} by Aubrey Moore (<a href=\"mailto: aubreymoore@triton.uog.edu\">aubreymoore@triton.uog.edu</a>)\n",
    "Data source: <a href={{ url }}>GBIF.org ({{ pubdate }}) {{ title }}</a>\n",
    "{{ occurrences }} occurrences | {{ kingdoms }} kingdoms | {{ phyla }} phyla | {{ classes }} classes | {{ orders }} orders | {{ families }} families | {{ genera }} genera | {{ species }} species</pre>\n",
    "</div>\n",
    "\n",
    "<ul id=\"myUL\">\n",
    "<li><span class=\"caret\">Click here to open tree</span>\n",
    "\n",
    "{{ treeview }}\n",
    "\n",
    "</li>\n",
    "</ul>\n",
    "\n",
    "</div>\n",
    "</section>\n",
    "\n",
    "<script>\n",
    "var toggler = document.getElementsByClassName(\"caret\");\n",
    "var i;\n",
    "\n",
    "for (i = 0; i < toggler.length; i++) {\n",
    "  toggler[i].addEventListener(\"click\", function() {\n",
    "    this.parentElement.querySelector(\".nested\").classList.toggle(\"active\");\n",
    "    this.classList.toggle(\"caret-down\");\n",
    "  });\n",
    "}\n",
    "</script>\n",
    "\n",
    "</body>\n",
    "</html>\n",
    "\"\"\""
   ]
  },
  {
   "cell_type": "code",
   "execution_count": 133,
   "id": "8ab0964c-9012-484a-bacc-0c716d5299c3",
   "metadata": {},
   "outputs": [
    {
     "name": "stdout",
     "output_type": "stream",
     "text": [
      "Core data file is: occurrence.txt\n",
      "472301\n",
      "297110\n",
      "{\"and\" : [\"Country is Guam\",\"TaxonKey is Insecta\"]}\n",
      "FINISHED\n"
     ]
    }
   ],
   "source": [
    "# MAIN\n",
    "\n",
    "df = build_dataframe(DWCA)\n",
    "\n",
    "# df = df.head(100)\n",
    "\n",
    "taxonomy_dict = build_taxonomy_dict(df)\n",
    "treeview = build_treeview(taxonomy_dict, 2)\n",
    "\n",
    "metadata = get_metadata()\n",
    "taxoncounts = calculate_taxoncounts()\n",
    "\n",
    "environment = jinja2.Environment()\n",
    "template = environment.from_string(template_string)\n",
    "html = template.render(\n",
    "    treeview = treeview, \n",
    "    title = metadata['title'], \n",
    "    pubdate = metadata['pubdate'], \n",
    "    url = metadata['url'],\n",
    "    occurrences = taxoncounts['occurrences'],\n",
    "    kingdoms = taxoncounts['kingdoms'],\n",
    "    phyla = taxoncounts['phyla'],\n",
    "    classes = taxoncounts['classes'],\n",
    "    orders = taxoncounts['orders'],\n",
    "    families = taxoncounts['families'],\n",
    "    genera = taxoncounts['genera'],\n",
    "    species = taxoncounts['species'],\n",
    "    version = VERSION,\n",
    "    gbif_query = get_gbif_query( metadata['abstract'] )\n",
    ")\n",
    "print(len(html))\n",
    "html = htmlmin.minify(html)\n",
    "print(len(html))\n",
    "with open(html_filename(), mode='w', encoding='utf-8') as f:\n",
    "    f.write(html)\n",
    "    \n",
    "print('FINISHED')"
   ]
  },
  {
   "cell_type": "markdown",
   "id": "7808e969-6b36-4d11-806a-12d1848c077b",
   "metadata": {},
   "source": [
    "# Find the first occurrence record for each taxon"
   ]
  },
  {
   "cell_type": "raw",
   "id": "44fabf38-0581-4656-8837-6e9002b866da",
   "metadata": {},
   "source": [
    "df = build_dataframe(DWCA)"
   ]
  },
  {
   "cell_type": "raw",
   "id": "a60dc804-f329-4ae1-ba65-4939a74adc25",
   "metadata": {},
   "source": [
    "df_dates = df[['scientificName', 'eventDate', 'datasetName', 'occurrenceID']]\n",
    "# df_dates.dropna(axis='index', inplace=True)\n",
    "df_dates.sort_values(by='eventDate', inplace=True)\n",
    "df_first_dates = df_dates.groupby('scientificName').first().reset_index()\n",
    "df_first_dates.sort_values(by='eventDate', inplace=True)\n",
    "df_first_dates"
   ]
  },
  {
   "cell_type": "raw",
   "id": "471b8f9f-46c2-4b1b-aedf-840d9dbfd62f",
   "metadata": {},
   "source": [
    "df_first_dates.tail(200)"
   ]
  },
  {
   "cell_type": "raw",
   "id": "baa7da52-3bb3-41f7-add1-31eb8569a734",
   "metadata": {},
   "source": [
    "data = [dict(name='Google', url='http://www.google.com'),\n",
    "        dict(name='Stackoverflow', url='http://stackoverflow.com')]\n",
    "df = pd.DataFrame(data)\n",
    "\n",
    "def make_clickable(val):\n",
    "    # target _blank to open new window\n",
    "    return '<a target=\"_blank\" href=\"{}\">{}</a>'.format(val, val)\n",
    "\n",
    "df.style.format({'url': make_clickable})\n"
   ]
  },
  {
   "cell_type": "raw",
   "id": "d6e4fc61-9282-44fa-a60d-47ff695cb739",
   "metadata": {},
   "source": [
    "print(len(html), len(minified))"
   ]
  },
  {
   "cell_type": "markdown",
   "id": "7843fa9c-87a6-4a09-a154-d071792e48fb",
   "metadata": {},
   "source": [
    "# Playpen"
   ]
  },
  {
   "cell_type": "raw",
   "id": "ecc67ec6-6be8-4a56-b801-6de18533c080",
   "metadata": {},
   "source": [
    "from zipfile import ZipFile\n",
    "\n",
    "backbone_dwca = '/home/aubrey/Downloads/backbone.zip'\n",
    "with ZipFile(backbone_dwca,\"r\") as z:\n",
    "    # namelist = z.namelist()\n",
    "    # for name in namelist:\n",
    "    #     print(name)\n",
    "    z.extract('backbone/VernacularName.tsv')\n",
    "vdf = pd.read_csv('backbone/VernacularName.tsv', sep='\\t', parse_dates=True, low_memory=False)\n",
    "vdf = vdf[vdf['language']=='en']\n",
    "vdf = vdf[['taxonID', 'vernacularName']]\n",
    "vdf"
   ]
  },
  {
   "cell_type": "raw",
   "id": "1a053cdc-169b-4a0f-97ce-141c57ffa4fe",
   "metadata": {},
   "source": [
    "vdf.groupby('taxonID').first().reset_index()"
   ]
  },
  {
   "cell_type": "raw",
   "id": "7b74e08b-08b4-40e7-9f14-7f7fad7508dc",
   "metadata": {},
   "source": [
    "vdf[vdf.taxonID==193885426]"
   ]
  }
 ],
 "metadata": {
  "kernelspec": {
   "display_name": "Python 3 (ipykernel)",
   "language": "python",
   "name": "python3"
  },
  "language_info": {
   "codemirror_mode": {
    "name": "ipython",
    "version": 3
   },
   "file_extension": ".py",
   "mimetype": "text/x-python",
   "name": "python",
   "nbconvert_exporter": "python",
   "pygments_lexer": "ipython3",
   "version": "3.9.5"
  }
 },
 "nbformat": 4,
 "nbformat_minor": 5
}
